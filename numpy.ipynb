{
 "cells": [
  {
   "cell_type": "markdown",
   "metadata": {},
   "source": [
    "## Numpy for python\n",
    "\n",
    "Numerical Python (NumPy) is an open source Python library for scientific computing. NumPy provides a host of  features that allow a Python programmer to work with high-performance (and multidimensional) arrays and matrices. NumPy arrays are stored more efficiently than Python lists and allow mathematical operations to be vectorised, which results in significantly higher performance than with looping constructs in Python. \n",
    "\n",
    "Read more here: https://tinyurl.com/yxz8qfjq\n",
    "\n",
    "Let's start by importing the modules we will be using in this notebook."
   ]
  },
  {
   "cell_type": "code",
   "execution_count": 3,
   "metadata": {},
   "outputs": [],
   "source": [
    "# Import numpy and random modules.\n",
    "import random\n",
    "import numpy as np"
   ]
  },
  {
   "cell_type": "markdown",
   "metadata": {},
   "source": [
    "## Creating numpy arrays\n",
    "There are several ways we can create numpy arrays, some examples are provided below."
   ]
  },
  {
   "cell_type": "code",
   "execution_count": 4,
   "metadata": {},
   "outputs": [],
   "source": [
    "a1 = np.array([1, 2, 3, 4, 5])             # create an array from a list.\n",
    "a2 = np.array(range(20))                   # create an array from a range.\n",
    "a3 = np.arange(0, 100, 5)                  # a step can be provided.\n",
    "a4 = np.zeros(10, dtype=int)               # create an array containing 10 zeros of type integer.\n",
    "a5 = np.linspace(1, 100, 6)                # create an array with equally spaced values.\n",
    "a6 = [random.random() for _ in range(100)] # create an array containing random elements."
   ]
  },
  {
   "cell_type": "markdown",
   "metadata": {},
   "source": [
    "Print out the arrays below and check that each contains what you would expect. Change the values above and re-run the cells to see what impact this has."
   ]
  },
  {
   "cell_type": "code",
   "execution_count": 5,
   "metadata": {},
   "outputs": [
    {
     "name": "stdout",
     "output_type": "stream",
     "text": [
      "The contents of a1 is [1 2 3 4 5]\n",
      "The contents of a2 is [ 0  1  2  3  4  5  6  7  8  9 10 11 12 13 14 15 16 17 18 19]\n",
      "The contents of a3 is [ 0  5 10 15 20 25 30 35 40 45 50 55 60 65 70 75 80 85 90 95]\n",
      "The contents of a4 is [0 0 0 0 0 0 0 0 0 0]\n",
      "The contents of a5 is [  1.   20.8  40.6  60.4  80.2 100. ]\n",
      "The contents of a6 is [0.6993859709181645, 0.9117622682490406, 0.7237876323924528]\n"
     ]
    }
   ],
   "source": [
    "print(f'The contents of a1 is {a1}')\n",
    "print(f'The contents of a2 is {a2}')\n",
    "print(f'The contents of a3 is {a3}')\n",
    "print(f'The contents of a4 is {a4}')\n",
    "print(f'The contents of a5 is {a5}')\n",
    "print(f'The contents of a6 is {a6[:3]}') # this prints the first 3 values only."
   ]
  },
  {
   "cell_type": "markdown",
   "metadata": {},
   "source": [
    "## Reshaping arrays\n",
    "\n",
    "It is often easier to create a single dimension numpy array and then reshape it to whatever you need. See below:"
   ]
  },
  {
   "cell_type": "code",
   "execution_count": 6,
   "metadata": {},
   "outputs": [
    {
     "name": "stdout",
     "output_type": "stream",
     "text": [
      "Structure of a7\n",
      "[ 0  1  2  3  4  5  6  7  8  9 10 11 12 13 14 15 16 17 18 19]\n",
      "Structure of a8 (10 rows, 2 columns)\n",
      "[[ 0  1]\n",
      " [ 2  3]\n",
      " [ 4  5]\n",
      " [ 6  7]\n",
      " [ 8  9]\n",
      " [10 11]\n",
      " [12 13]\n",
      " [14 15]\n",
      " [16 17]\n",
      " [18 19]]\n",
      "Structure of a9(4 rows, 5 columns)\n",
      "[[ 0  1  2  3  4]\n",
      " [ 5  6  7  8  9]\n",
      " [10 11 12 13 14]\n",
      " [15 16 17 18 19]]\n"
     ]
    }
   ],
   "source": [
    "a7 = np.arange(20)\n",
    "a8 = a7.reshape(10,2)\n",
    "a9 = a7.reshape(4,5)\n",
    "print(f'Structure of a7\\n{a7}')\n",
    "print(f'Structure of a8 (10 rows, 2 columns)\\n{a8}')\n",
    "print(f'Structure of a9(4 rows, 5 columns)\\n{a9}')"
   ]
  },
  {
   "cell_type": "markdown",
   "metadata": {},
   "source": [
    "## Checking the size of a numpy array\n",
    "\n",
    "You can use the np_array.shape command to report the size of an array."
   ]
  },
  {
   "cell_type": "code",
   "execution_count": 7,
   "metadata": {},
   "outputs": [
    {
     "name": "stdout",
     "output_type": "stream",
     "text": [
      "a8 is a (10, 2) array.\n",
      "a9 is a (4, 5) array.\n"
     ]
    }
   ],
   "source": [
    "print(f'a8 is a {a8.shape} array.')\n",
    "print(f'a9 is a {a9.shape} array.')"
   ]
  },
  {
   "cell_type": "markdown",
   "metadata": {},
   "source": [
    "## Operations on numpy arrays\n",
    "\n",
    "Numpy arrays use something called vectorisation to perform fast operations on arrays. This is also supported by pandas."
   ]
  },
  {
   "cell_type": "code",
   "execution_count": 8,
   "metadata": {},
   "outputs": [
    {
     "name": "stdout",
     "output_type": "stream",
     "text": [
      "Contents of the initial array [ 0  1  2  3  4  5  6  7  8  9 10 11 12 13 14 15 16 17 18 19]\n",
      "Contents of the array after doubling [ 0  2  4  6  8 10 12 14 16 18 20 22 24 26 28 30 32 34 36 38]\n",
      "Contents of the array after trebling [ 0  3  6  9 12 15 18 21 24 27 30 33 36 39 42 45 48 51 54 57]\n"
     ]
    }
   ],
   "source": [
    "a10 = np.arange(20) \n",
    "    \n",
    "def double_it(x):\n",
    "    return x * 2  \n",
    "    \n",
    "# np.vectorize applies the method to all items in an array \n",
    "a11 = np.vectorize(double_it)(a10) \n",
    "\n",
    "a12 = a10 * 3 # this is a more direct way of using vectorisation for simple operations.\n",
    "\n",
    "print(f'Contents of the initial array {a10}')\n",
    "print(f'Contents of the array after doubling {a11}')\n",
    "print(f'Contents of the array after trebling {a12}')"
   ]
  },
  {
   "cell_type": "markdown",
   "metadata": {},
   "source": [
    "### Filtering numpy arrays\n",
    "\n",
    "Logical operations test each element of an array against specific criteria. "
   ]
  },
  {
   "cell_type": "code",
   "execution_count": 14,
   "metadata": {},
   "outputs": [
    {
     "name": "stdout",
     "output_type": "stream",
     "text": [
      "Elements of a10 that are > 10 [False False False False False False False False False False False False\n",
      " False  True  True  True  True  True  True  True]\n",
      "Elements greater than 12 are [13 14 15 16 17 18 19]\n",
      "There are 7 elements greater than 12.\n"
     ]
    }
   ],
   "source": [
    "# find elements of a10 that are greater than 12.\n",
    "print(f'Elements of a10 that are > 10 {a10 > 12}')\n",
    "\n",
    "# select only the elements of a10 that are greater than 12.\n",
    "condition = a10 > 12\n",
    "print(f'Elements greater than 12 are {a10[condition]}')\n",
    "\n",
    "# how many elements are greater than 12?\n",
    "print(f'There are {np.sum(a10 > 12)} elements greater than 12.')"
   ]
  },
  {
   "cell_type": "code",
   "execution_count": null,
   "metadata": {},
   "outputs": [],
   "source": []
  }
 ],
 "metadata": {
  "kernelspec": {
   "display_name": "Python 3",
   "language": "python",
   "name": "python3"
  },
  "language_info": {
   "codemirror_mode": {
    "name": "ipython",
    "version": 3
   },
   "file_extension": ".py",
   "mimetype": "text/x-python",
   "name": "python",
   "nbconvert_exporter": "python",
   "pygments_lexer": "ipython3",
   "version": "3.8.5"
  }
 },
 "nbformat": 4,
 "nbformat_minor": 4
}
